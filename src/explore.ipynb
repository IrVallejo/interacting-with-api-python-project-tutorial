{
 "cells": [
  {
   "cell_type": "markdown",
   "metadata": {},
   "source": [
    "# Explore here"
   ]
  },
  {
   "cell_type": "code",
   "execution_count": 7,
   "metadata": {},
   "outputs": [
    {
     "data": {
      "text/plain": [
       "True"
      ]
     },
     "execution_count": 7,
     "metadata": {},
     "output_type": "execute_result"
    }
   ],
   "source": [
    "import spotipy\n",
    "from spotipy.oauth2 import SpotifyClientCredentials\n",
    "from dotenv import load_dotenv\n",
    "import os\n",
    "import pandas as pd\n",
    "import seaborn as sns\n",
    "\n",
    "# load the .env file variables\n",
    "load_dotenv()\n",
    "\n"
   ]
  },
  {
   "cell_type": "code",
   "execution_count": 8,
   "metadata": {},
   "outputs": [],
   "source": [
    "client_id = os.environ.get('CLIENT_ID')\n",
    "client_secret = os.environ.get('CLIENT_SECRET')"
   ]
  },
  {
   "cell_type": "code",
   "execution_count": 9,
   "metadata": {},
   "outputs": [],
   "source": [
    "auth_manager = SpotifyClientCredentials(client_id=client_id, client_secret=client_secret)\n",
    "sp = spotipy.Spotify(auth_manager=auth_manager)"
   ]
  },
  {
   "cell_type": "code",
   "execution_count": 10,
   "metadata": {},
   "outputs": [],
   "source": [
    "artist_id = \"00FQb4jTyendYWaN8pK0wa\"\n",
    "response = sp.artist_top_tracks(artist_id)"
   ]
  },
  {
   "cell_type": "code",
   "execution_count": 11,
   "metadata": {},
   "outputs": [
    {
     "name": "stdout",
     "output_type": "stream",
     "text": [
      "[{'duration_ms': 4.412883333333333, 'name': 'Summertime Sadness', 'popularity': 72}, {'duration_ms': 3.9342166666666665, 'name': 'Young And Beautiful', 'popularity': 83}, {'duration_ms': 3.4859333333333336, 'name': 'Say Yes To Heaven', 'popularity': 83}, {'duration_ms': 5.011383333333334, 'name': 'Cinnamon Girl', 'popularity': 81}, {'duration_ms': 4.279333333333334, 'name': 'West Coast', 'popularity': 81}, {'duration_ms': 3.715333333333333, 'name': 'Diet Mountain Dew', 'popularity': 68}, {'duration_ms': 5.860666666666667, 'name': 'Brooklyn Baby', 'popularity': 80}, {'duration_ms': 4.6991, 'name': 'Video Games', 'popularity': 69}, {'duration_ms': 2.7451666666666665, 'name': 'White Mustang', 'popularity': 79}, {'duration_ms': 3.147133333333333, 'name': 'Tough', 'popularity': 79}]\n"
     ]
    }
   ],
   "source": [
    "iltered_tracks = []\n",
    "\n",
    "\n",
    "if response and \"tracks\" in response:\n",
    "    tracks = response[\"tracks\"]\n",
    "\n",
    "    \n",
    "    filtered_tracks = []\n",
    "\n",
    "    \n",
    "    for track in tracks:\n",
    "        \n",
    "        track_info = {}\n",
    "\n",
    "        \n",
    "        for k, v in track.items():\n",
    "            # Verifica si la clave es una de las que nos interesa\n",
    "            if k in [\"name\", \"popularity\", \"duration_ms\"]:\n",
    "                \n",
    "                if k == \"duration_ms\":\n",
    "                    track_info[k] = (v / (1000 * 60)) % 60\n",
    "                else:\n",
    "                    track_info[k] = v\n",
    "        \n",
    "        filtered_tracks.append(track_info)\n",
    "\n",
    "    \n",
    "    tracks = filtered_tracks\n",
    "\n",
    "   \n",
    "    print(tracks)\n",
    "\n",
    "else:\n",
    "    print(\"Error: No se pudo obtener las canciones principales del artista o la respuesta no contiene 'tracks'.\")\n"
   ]
  },
  {
   "cell_type": "code",
   "execution_count": 12,
   "metadata": {},
   "outputs": [
    {
     "name": "stdout",
     "output_type": "stream",
     "text": [
      "   duration_ms                name  popularity\n",
      "5     3.715333   Diet Mountain Dew          68\n",
      "7     4.699100         Video Games          69\n",
      "0     4.412883  Summertime Sadness          72\n"
     ]
    }
   ],
   "source": [
    "tracks_df = pd.DataFrame.from_records(tracks)\n",
    "tracks_df.sort_values([\"popularity\"], inplace = True)\n",
    "\n",
    "print(tracks_df.head(3))"
   ]
  },
  {
   "cell_type": "code",
   "execution_count": 13,
   "metadata": {},
   "outputs": [
    {
     "data": {
      "image/png": "[encoded data removed]",
      "text/plain": [
       "<Figure size 640x480 with 1 Axes>"
      ]
     },
     "metadata": {},
     "output_type": "display_data"
    }
   ],
   "source": [
    "scatter_plot = sns.scatterplot(data = tracks_df, x = \"popularity\", y = \"duration_ms\")\n",
    "fig = scatter_plot.get_figure()\n",
    "fig.savefig(\"scatter_plot.png\")"
   ]
  },
  {
   "cell_type": "markdown",
   "metadata": {},
   "source": [
    "Debido a la dispercion que existe entre la popularidad de las canciones con la duracion podemos concluir que no existe correlacion ni causalidad entre estas dos variables"
   ]
  }
 ],
 "metadata": {
  "kernelspec": {
   "display_name": "Python 3",
   "language": "python",
   "name": "python3"
  },
  "language_info": {
   "codemirror_mode": {
    "name": "ipython",
    "version": 3
   },
   "file_extension": ".py",
   "mimetype": "text/x-python",
   "name": "python",
   "nbconvert_exporter": "python",
   "pygments_lexer": "ipython3",
   "version": "3.11.4"
  },
  "orig_nbformat": 4
 },
 "nbformat": 4,
 "nbformat_minor": 2
}
